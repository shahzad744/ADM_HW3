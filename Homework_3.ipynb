{
 "cells": [
  {
   "cell_type": "markdown",
   "metadata": {},
   "source": [
    "# Step 2: Create documents\n",
    "In order to create documents in tab separated values format and load them in memory, we built a class named 'DataLoading' containing two methods:\n",
    "-LoadCSVandCreateTSVFiles transform a single csv file in multiple tsv files. Each of these tsv files corresponds to a single row in the csv file.\n",
    "-LoadTSVFilesDataIntoString load the entire corpus in a list. Each item of this list is a string corresponding to a tsv file"
   ]
  },
  {
   "cell_type": "code",
   "execution_count": 1,
   "metadata": {},
   "outputs": [],
   "source": [
    "import DataLoading\n",
    "import Preprocessing\n",
    "import TextManagement\n",
    "import TextMining\n",
    "import DisplayResults"
   ]
  },
  {
   "cell_type": "code",
   "execution_count": 2,
   "metadata": {},
   "outputs": [],
   "source": [
    "dl = DataLoading.DataLoading()"
   ]
  },
  {
   "cell_type": "code",
   "execution_count": 3,
   "metadata": {},
   "outputs": [],
   "source": [
    "dl.LoadCSVandCreateTSVFiles()"
   ]
  },
  {
   "cell_type": "markdown",
   "metadata": {},
   "source": [
    "It assumes the csv file is stored in ./Resources/Airbnb_Texas_Rentals.csv and stores the tsv files in the folder ./Resources/tsvFiles"
   ]
  },
  {
   "cell_type": "code",
   "execution_count": 4,
   "metadata": {},
   "outputs": [],
   "source": [
    "raw_data = dl.LoadTSVFilesDataIntoString()"
   ]
  },
  {
   "cell_type": "markdown",
   "metadata": {},
   "source": [
    "Loads the data in memory"
   ]
  },
  {
   "cell_type": "markdown",
   "metadata": {},
   "source": [
    "# Step 3: Search Engine\n",
    "For the preprocessing task we built a class named 'Preprocessing'. Its responsibility is to preprocess the documents removing stopwords and punctuation and applying stemming."
   ]
  },
  {
   "cell_type": "code",
   "execution_count": 5,
   "metadata": {},
   "outputs": [],
   "source": [
    "preprocessing = Preprocessing.Preprocessing()\n",
    "data = preprocessing.PreprocessDataForTextManagement(raw_data)"
   ]
  },
  {
   "cell_type": "markdown",
   "metadata": {},
   "source": [
    "For a given list of strings, each containing the content of a tvs file, returns a list of objects representing the preprocessed tvs files. These objects are dictionaries where the keys are the names of the fields."
   ]
  },
  {
   "cell_type": "markdown",
   "metadata": {},
   "source": [
    "## 3.1.1) Create your index!\n",
    "The class 'TextManagement' is responsible to create, save and load the inverted index."
   ]
  },
  {
   "cell_type": "code",
   "execution_count": 6,
   "metadata": {},
   "outputs": [],
   "source": [
    "textManagement = TextManagement.TextManagement()\n",
    "invertedIndex = textManagement.CreateInvertedIndex(data)"
   ]
  },
  {
   "cell_type": "code",
   "execution_count": 7,
   "metadata": {},
   "outputs": [],
   "source": [
    "textManagement.SaveInvertedIndexJson(invertedIndex, \"inverted_index.json\")"
   ]
  },
  {
   "cell_type": "code",
   "execution_count": 8,
   "metadata": {},
   "outputs": [],
   "source": [
    "invertedIndex = textManagement.LoadInvertedIndexJson(\"inverted_index.json\")"
   ]
  },
  {
   "cell_type": "markdown",
   "metadata": {},
   "source": [
    "## 3.1.2) Execute the query"
   ]
  },
  {
   "cell_type": "code",
   "execution_count": 9,
   "metadata": {},
   "outputs": [
    {
     "name": "stdout",
     "output_type": "stream",
     "text": [
      "Please Enter Search Query: \n",
      "big garden\n"
     ]
    }
   ],
   "source": [
    "print(\"Please Enter Search Query: \")\n",
    "searchQuery = input()"
   ]
  },
  {
   "cell_type": "code",
   "execution_count": 10,
   "metadata": {},
   "outputs": [],
   "source": [
    "searchQueryProcessed = preprocessing.PreprocessDataForTextMining(searchQuery)"
   ]
  },
  {
   "cell_type": "markdown",
   "metadata": {},
   "source": [
    "Before the actual execution of the query, we preprocess it just like we did for the documents. This is necessary, in fact there wouldn't be any match (query-term, inverted-index-row) otherwise."
   ]
  },
  {
   "cell_type": "code",
   "execution_count": 11,
   "metadata": {},
   "outputs": [],
   "source": [
    "textMining = TextMining.TextMining()\n",
    "documentIndexes = textMining.SearchTextFromInvertedIndexAndReturnResults(invertedIndex, searchQueryProcessed)"
   ]
  },
  {
   "cell_type": "markdown",
   "metadata": {},
   "source": [
    "The query is executed as follow:\n",
    "for each word in the query:\n",
    "    retrieve the corresponding term id\n",
    "    retrieve all the documents containing the term id\n",
    "The result is the intersection of the documents retrieved at each step."
   ]
  },
  {
   "cell_type": "code",
   "execution_count": 13,
   "metadata": {},
   "outputs": [
    {
     "data": {
      "text/html": [
       "<div>\n",
       "<style scoped>\n",
       "    .dataframe tbody tr th:only-of-type {\n",
       "        vertical-align: middle;\n",
       "    }\n",
       "\n",
       "    .dataframe tbody tr th {\n",
       "        vertical-align: top;\n",
       "    }\n",
       "\n",
       "    .dataframe thead th {\n",
       "        text-align: right;\n",
       "    }\n",
       "</style>\n",
       "<table border=\"1\" class=\"dataframe\">\n",
       "  <thead>\n",
       "    <tr style=\"text-align: right;\">\n",
       "      <th></th>\n",
       "      <th>Title</th>\n",
       "      <th>Description</th>\n",
       "      <th>City</th>\n",
       "      <th>Url</th>\n",
       "    </tr>\n",
       "  </thead>\n",
       "  <tbody>\n",
       "    <tr>\n",
       "      <th>0</th>\n",
       "      <td>Travis Heights Bungalow 2/1</td>\n",
       "      <td>Charming 1940a bungalow in one of Austin's mos...</td>\n",
       "      <td>Austin</td>\n",
       "      <td>https://www.airbnb.com/rooms/5021987?location=...</td>\n",
       "    </tr>\n",
       "    <tr>\n",
       "      <th>1</th>\n",
       "      <td>Maison d'Etre</td>\n",
       "      <td>Perfect ACL, F1, SXSW location! A colorful str...</td>\n",
       "      <td>Austin</td>\n",
       "      <td>https://www.airbnb.com/rooms/5037508?location=...</td>\n",
       "    </tr>\n",
       "    <tr>\n",
       "      <th>2</th>\n",
       "      <td>Lovely big room with private bath &amp; entrance</td>\n",
       "      <td>Bedroom with one bed, attached bath and privat...</td>\n",
       "      <td>San Antonio</td>\n",
       "      <td>https://www.airbnb.com/rooms/2905792?location=...</td>\n",
       "    </tr>\n",
       "    <tr>\n",
       "      <th>3</th>\n",
       "      <td>Luxurious Coastal Cottage</td>\n",
       "      <td>My place is close to The Seawall. My place is ...</td>\n",
       "      <td>Galveston</td>\n",
       "      <td>https://www.airbnb.com/rooms/15161770?location...</td>\n",
       "    </tr>\n",
       "    <tr>\n",
       "      <th>4</th>\n",
       "      <td>New! A little bit country close to town/The Ga...</td>\n",
       "      <td>My place is close to family-friendly activitie...</td>\n",
       "      <td>Kyle</td>\n",
       "      <td>https://www.airbnb.com/rooms/17270667?location...</td>\n",
       "    </tr>\n",
       "  </tbody>\n",
       "</table>\n",
       "</div>"
      ],
      "text/plain": [
       "                                               Title  \\\n",
       "0                        Travis Heights Bungalow 2/1   \n",
       "1                                      Maison d'Etre   \n",
       "2       Lovely big room with private bath & entrance   \n",
       "3                          Luxurious Coastal Cottage   \n",
       "4  New! A little bit country close to town/The Ga...   \n",
       "\n",
       "                                         Description         City  \\\n",
       "0  Charming 1940a bungalow in one of Austin's mos...       Austin   \n",
       "1  Perfect ACL, F1, SXSW location! A colorful str...       Austin   \n",
       "2  Bedroom with one bed, attached bath and privat...  San Antonio   \n",
       "3  My place is close to The Seawall. My place is ...    Galveston   \n",
       "4  My place is close to family-friendly activitie...         Kyle   \n",
       "\n",
       "                                                 Url  \n",
       "0  https://www.airbnb.com/rooms/5021987?location=...  \n",
       "1  https://www.airbnb.com/rooms/5037508?location=...  \n",
       "2  https://www.airbnb.com/rooms/2905792?location=...  \n",
       "3  https://www.airbnb.com/rooms/15161770?location...  \n",
       "4  https://www.airbnb.com/rooms/17270667?location...  "
      ]
     },
     "metadata": {},
     "output_type": "display_data"
    }
   ],
   "source": [
    "from IPython.display import display\n",
    "\n",
    "displayresults = DisplayResults.DisplayResults()\n",
    "res = displayresults.GetSimpleResults(documentIndexes)\n",
    "display(res.head())"
   ]
  },
  {
   "cell_type": "markdown",
   "metadata": {},
   "source": [
    "## 3.2) Conjunctive query & Ranking score"
   ]
  },
  {
   "cell_type": "markdown",
   "metadata": {},
   "source": [
    "### 3.2.1) Inverted index\n"
   ]
  },
  {
   "cell_type": "code",
   "execution_count": 14,
   "metadata": {},
   "outputs": [],
   "source": [
    "invertedIndex = textManagement.CreateScoredInvertedIndex(data)\n",
    "textManagement.SaveInvertedIndexJson(invertedIndex, \"tfidf_inverted_index.json\")\n",
    "invertedIndex = textManagement.LoadInvertedIndexJson(\"tfidf_inverted_index.json\")"
   ]
  },
  {
   "cell_type": "markdown",
   "metadata": {},
   "source": [
    "Now the inverted index is built using the tf-idf scheme."
   ]
  },
  {
   "cell_type": "markdown",
   "metadata": {},
   "source": [
    "### 3.2.2) Execute the query\n"
   ]
  },
  {
   "cell_type": "code",
   "execution_count": 15,
   "metadata": {},
   "outputs": [
    {
     "name": "stdout",
     "output_type": "stream",
     "text": [
      "Please Enter Search Query: \n",
      "big garden\n"
     ]
    }
   ],
   "source": [
    "print(\"Please Enter Search Query: \")\n",
    "searchQuery = input()\n",
    "searchQueryProcessed = preprocessing.PreprocessDataForTextMining(searchQuery)\n",
    "documentIndexes = textMining.SearchTextFromInvertedScoredIndexAndReturnResults(invertedIndex,searchQueryProcessed)"
   ]
  },
  {
   "cell_type": "markdown",
   "metadata": {},
   "source": [
    "# For Shahzad ... We use the tf*idf scheme for the query too, because in order to calculate the similarity ..."
   ]
  },
  {
   "cell_type": "code",
   "execution_count": 16,
   "metadata": {},
   "outputs": [
    {
     "data": {
      "text/html": [
       "<div>\n",
       "<style scoped>\n",
       "    .dataframe tbody tr th:only-of-type {\n",
       "        vertical-align: middle;\n",
       "    }\n",
       "\n",
       "    .dataframe tbody tr th {\n",
       "        vertical-align: top;\n",
       "    }\n",
       "\n",
       "    .dataframe thead th {\n",
       "        text-align: right;\n",
       "    }\n",
       "</style>\n",
       "<table border=\"1\" class=\"dataframe\">\n",
       "  <thead>\n",
       "    <tr style=\"text-align: right;\">\n",
       "      <th></th>\n",
       "      <th>Title</th>\n",
       "      <th>Description</th>\n",
       "      <th>City</th>\n",
       "      <th>Url</th>\n",
       "      <th>Score</th>\n",
       "    </tr>\n",
       "  </thead>\n",
       "  <tbody>\n",
       "    <tr>\n",
       "      <th>0</th>\n",
       "      <td>Luxurious Coastal Cottage</td>\n",
       "      <td>My place is close to The Seawall. My place is ...</td>\n",
       "      <td>Galveston</td>\n",
       "      <td>https://www.airbnb.com/rooms/15161770?location...</td>\n",
       "      <td>1.0</td>\n",
       "    </tr>\n",
       "    <tr>\n",
       "      <th>1</th>\n",
       "      <td>Peaceful home near airport &amp; downtown</td>\n",
       "      <td>Our home is filled with warmth from lots of na...</td>\n",
       "      <td>San Antonio</td>\n",
       "      <td>https://www.airbnb.com/rooms/19014109?location...</td>\n",
       "      <td>1.0</td>\n",
       "    </tr>\n",
       "    <tr>\n",
       "      <th>2</th>\n",
       "      <td>Travis Heights Bungalow 2/1</td>\n",
       "      <td>Charming 1940a bungalow in one of Austin's mos...</td>\n",
       "      <td>Austin</td>\n",
       "      <td>https://www.airbnb.com/rooms/5021987?location=...</td>\n",
       "      <td>1.0</td>\n",
       "    </tr>\n",
       "    <tr>\n",
       "      <th>3</th>\n",
       "      <td>Travis Heights Bungalow 2/1</td>\n",
       "      <td>Charming 1940a bungalow in one of Austin's mos...</td>\n",
       "      <td>Austin</td>\n",
       "      <td>https://www.airbnb.com/rooms/5021987?location=...</td>\n",
       "      <td>1.0</td>\n",
       "    </tr>\n",
       "    <tr>\n",
       "      <th>4</th>\n",
       "      <td>Welcome home!</td>\n",
       "      <td>My place is close to Walking distance/across t...</td>\n",
       "      <td>Roanoke</td>\n",
       "      <td>https://www.airbnb.com/rooms/15603065?location...</td>\n",
       "      <td>1.0</td>\n",
       "    </tr>\n",
       "  </tbody>\n",
       "</table>\n",
       "</div>"
      ],
      "text/plain": [
       "                                   Title  \\\n",
       "0              Luxurious Coastal Cottage   \n",
       "1  Peaceful home near airport & downtown   \n",
       "2            Travis Heights Bungalow 2/1   \n",
       "3            Travis Heights Bungalow 2/1   \n",
       "4                          Welcome home!   \n",
       "\n",
       "                                         Description         City  \\\n",
       "0  My place is close to The Seawall. My place is ...    Galveston   \n",
       "1  Our home is filled with warmth from lots of na...  San Antonio   \n",
       "2  Charming 1940a bungalow in one of Austin's mos...       Austin   \n",
       "3  Charming 1940a bungalow in one of Austin's mos...       Austin   \n",
       "4  My place is close to Walking distance/across t...      Roanoke   \n",
       "\n",
       "                                                 Url  Score  \n",
       "0  https://www.airbnb.com/rooms/15161770?location...    1.0  \n",
       "1  https://www.airbnb.com/rooms/19014109?location...    1.0  \n",
       "2  https://www.airbnb.com/rooms/5021987?location=...    1.0  \n",
       "3  https://www.airbnb.com/rooms/5021987?location=...    1.0  \n",
       "4  https://www.airbnb.com/rooms/15603065?location...    1.0  "
      ]
     },
     "metadata": {},
     "output_type": "display_data"
    }
   ],
   "source": [
    "res = displayresults.GetScoredResults(documentIndexes)\n",
    "display(res.head())"
   ]
  },
  {
   "cell_type": "markdown",
   "metadata": {},
   "source": [
    "# Step 4: Define a new score!\n",
    "In order to define a new score we build an inverted index based on the terms in the title and description field.\n",
    "For each document containing a specific term, we create a posting containing:\n",
    "* index of the document\n",
    "* average price per night\n",
    "* number of bedrooms\n",
    "* city\n",
    "* publication date\n",
    "\n",
    "The query string is splitted in two:\n",
    "* words\n",
    "* numbers\n",
    "\n",
    "If a number is between 0 and 15, it's understood to be the number of bedrooms required by the user.\n",
    "If it is greater than 15, it is recognized as a price."
   ]
  },
  {
   "cell_type": "code",
   "execution_count": 17,
   "metadata": {},
   "outputs": [],
   "source": [
    "invertedIndex = textManagement.CreateInvertedIndexWithNewScore(data)\n",
    "#save table maybe\n",
    "textManagement.SaveInvertedIndexJson(invertedIndex, \"table-custom-scored.json\")\n",
    "#load table from file\n",
    "invertedIndex = textManagement.LoadInvertedIndexJson(\"table-custom-scored.json\")"
   ]
  },
  {
   "cell_type": "markdown",
   "metadata": {},
   "source": [
    "Now the inverted index is built as previously specified"
   ]
  },
  {
   "cell_type": "code",
   "execution_count": 18,
   "metadata": {},
   "outputs": [
    {
     "name": "stdout",
     "output_type": "stream",
     "text": [
      "Please Enter Search Query: \n",
      "apartment with 2 bedrooms\n"
     ]
    }
   ],
   "source": [
    "print(\"Please Enter Search Query: \")\n",
    "searchQuery = input()"
   ]
  },
  {
   "cell_type": "code",
   "execution_count": 19,
   "metadata": {},
   "outputs": [],
   "source": [
    "searchQueryProcessed = preprocessing.PreprocessDataForTextMiningCustomScore(searchQuery)"
   ]
  },
  {
   "cell_type": "markdown",
   "metadata": {},
   "source": [
    "The tokens of the query string are divided in two categories, namely numbers and words.\n",
    "We apply stemming, stopword and punctuation removal to the tokens that are words."
   ]
  },
  {
   "cell_type": "code",
   "execution_count": 20,
   "metadata": {},
   "outputs": [],
   "source": [
    "documentIndexes = textMining.SearchTextFromInvertedCustomScoredIndexAndReturnResults(invertedIndex,searchQueryProcessed)"
   ]
  },
  {
   "cell_type": "markdown",
   "metadata": {},
   "source": [
    "The execution of the query proceed as follows:\n",
    "1. for each word w in the query\n",
    "    2. get all the documents that contain w\n",
    "    3. for each of these documents d:\n",
    "        4. save the identifier of d\n",
    "        5. save all other information of d (number of bedrooms, average price per night, ...)\n",
    "6. create a set from all the identifier stored at 4.\n",
    "7. create a priority queue from the set obtained in the previous point \\*\n",
    "8. extract the k documents with higher priority\n",
    "\n",
    "Notice that the query is not conjuntive anymore.\n",
    "\n",
    "\\* the priority is defined as 15300 - (the sum of absolute differences in price/bedrooms/city(0 or 1)/date(in days)) / 15300. Where a weight of:\n",
    "* 10000 is given to the price\n",
    "* 1100 is given to the number of rooms\n",
    "* 200 is given to the city\n",
    "* 4000 is given to the date"
   ]
  },
  {
   "cell_type": "code",
   "execution_count": 21,
   "metadata": {},
   "outputs": [
    {
     "data": {
      "text/html": [
       "<div>\n",
       "<style scoped>\n",
       "    .dataframe tbody tr th:only-of-type {\n",
       "        vertical-align: middle;\n",
       "    }\n",
       "\n",
       "    .dataframe tbody tr th {\n",
       "        vertical-align: top;\n",
       "    }\n",
       "\n",
       "    .dataframe thead th {\n",
       "        text-align: right;\n",
       "    }\n",
       "</style>\n",
       "<table border=\"1\" class=\"dataframe\">\n",
       "  <thead>\n",
       "    <tr style=\"text-align: right;\">\n",
       "      <th></th>\n",
       "      <th>Title</th>\n",
       "      <th>Description</th>\n",
       "      <th>City</th>\n",
       "      <th>Url</th>\n",
       "      <th>Score</th>\n",
       "    </tr>\n",
       "  </thead>\n",
       "  <tbody>\n",
       "    <tr>\n",
       "      <th>0</th>\n",
       "      <td>Beachfront Lovely Condo Sleeps 5-6 FREE WIFI!!</td>\n",
       "      <td>Lovely Beachfront Condo sleeps 5-6 (four adult...</td>\n",
       "      <td>Corpus Christi</td>\n",
       "      <td>https://www.airbnb.com/rooms/19209640?location...</td>\n",
       "      <td>0.950261</td>\n",
       "    </tr>\n",
       "    <tr>\n",
       "      <th>1</th>\n",
       "      <td>Nice home &amp; neighborhood Wifi, cable, kitchen etc</td>\n",
       "      <td>Nice house, we are renting a bedroom that shar...</td>\n",
       "      <td>Katy</td>\n",
       "      <td>https://www.airbnb.com/rooms/19244509?location...</td>\n",
       "      <td>0.950261</td>\n",
       "    </tr>\n",
       "    <tr>\n",
       "      <th>2</th>\n",
       "      <td>Courts of McCallum</td>\n",
       "      <td>This is a 2bhk apartment shared by students fr...</td>\n",
       "      <td>Dallas</td>\n",
       "      <td>https://www.airbnb.com/rooms/19389772?location...</td>\n",
       "      <td>0.945686</td>\n",
       "    </tr>\n",
       "    <tr>\n",
       "      <th>3</th>\n",
       "      <td>Autumn Sunrise Private bed and bath</td>\n",
       "      <td>One private bedroom, full bath in a subdivisio...</td>\n",
       "      <td>San Antonio</td>\n",
       "      <td>https://www.airbnb.com/rooms/18757453?location...</td>\n",
       "      <td>0.941699</td>\n",
       "    </tr>\n",
       "    <tr>\n",
       "      <th>4</th>\n",
       "      <td>Nice, quite, warm and welcoming. Nice part of ...</td>\n",
       "      <td>I have a new home only 5yrs old. Modern in sty...</td>\n",
       "      <td>Leander</td>\n",
       "      <td>https://www.airbnb.com/rooms/19133409?location...</td>\n",
       "      <td>0.938497</td>\n",
       "    </tr>\n",
       "  </tbody>\n",
       "</table>\n",
       "</div>"
      ],
      "text/plain": [
       "                                               Title  \\\n",
       "0     Beachfront Lovely Condo Sleeps 5-6 FREE WIFI!!   \n",
       "1  Nice home & neighborhood Wifi, cable, kitchen etc   \n",
       "2                                 Courts of McCallum   \n",
       "3                Autumn Sunrise Private bed and bath   \n",
       "4  Nice, quite, warm and welcoming. Nice part of ...   \n",
       "\n",
       "                                         Description            City  \\\n",
       "0  Lovely Beachfront Condo sleeps 5-6 (four adult...  Corpus Christi   \n",
       "1  Nice house, we are renting a bedroom that shar...            Katy   \n",
       "2  This is a 2bhk apartment shared by students fr...          Dallas   \n",
       "3  One private bedroom, full bath in a subdivisio...     San Antonio   \n",
       "4  I have a new home only 5yrs old. Modern in sty...         Leander   \n",
       "\n",
       "                                                 Url     Score  \n",
       "0  https://www.airbnb.com/rooms/19209640?location...  0.950261  \n",
       "1  https://www.airbnb.com/rooms/19244509?location...  0.950261  \n",
       "2  https://www.airbnb.com/rooms/19389772?location...  0.945686  \n",
       "3  https://www.airbnb.com/rooms/18757453?location...  0.941699  \n",
       "4  https://www.airbnb.com/rooms/19133409?location...  0.938497  "
      ]
     },
     "metadata": {},
     "output_type": "display_data"
    }
   ],
   "source": [
    "res = displayresults.GetScoredResults(documentIndexes)\n",
    "display(res.head())"
   ]
  },
  {
   "cell_type": "markdown",
   "metadata": {},
   "source": [
    "# Bonus Step: Make a nice visualization!"
   ]
  },
  {
   "cell_type": "code",
   "execution_count": 1,
   "metadata": {},
   "outputs": [
    {
     "name": "stdout",
     "output_type": "stream",
     "text": [
      "Enter comma seperated Cordinates:\n",
      "29.804659, -95.397209\n",
      "Distance in km: \n",
      "5\n"
     ]
    }
   ],
   "source": [
    "print(\"Enter comma seperated Cordinates:\")\n",
    "cc = input()\n",
    "cor = (float(cc.split(\",\")[0]), float(cc.split(\",\")[1]))\n",
    "print(\"Distance in km: \")\n",
    "dis = float(input())\n"
   ]
  },
  {
   "cell_type": "code",
   "execution_count": 2,
   "metadata": {},
   "outputs": [
    {
     "ename": "NameError",
     "evalue": "name 'MapDrawer' is not defined",
     "output_type": "error",
     "traceback": [
      "\u001b[0;31m---------------------------------------------------------------------------\u001b[0m",
      "\u001b[0;31mNameError\u001b[0m                                 Traceback (most recent call last)",
      "\u001b[0;32m<ipython-input-2-bea0bae4ef61>\u001b[0m in \u001b[0;36m<module>\u001b[0;34m()\u001b[0m\n\u001b[0;32m----> 1\u001b[0;31m \u001b[0mmd\u001b[0m \u001b[0;34m=\u001b[0m \u001b[0mMapDrawer\u001b[0m\u001b[0;34m.\u001b[0m\u001b[0mMapDrawer\u001b[0m\u001b[0;34m(\u001b[0m\u001b[0mcor\u001b[0m\u001b[0;34m,\u001b[0m \u001b[0mdis\u001b[0m\u001b[0;34m)\u001b[0m\u001b[0;34m\u001b[0m\u001b[0m\n\u001b[0m\u001b[1;32m      2\u001b[0m \u001b[0mmd\u001b[0m\u001b[0;34m.\u001b[0m\u001b[0mdraw\u001b[0m\u001b[0;34m(\u001b[0m\u001b[0;34m)\u001b[0m\u001b[0;34m\u001b[0m\u001b[0m\n",
      "\u001b[0;31mNameError\u001b[0m: name 'MapDrawer' is not defined"
     ]
    }
   ],
   "source": [
    "from MapDrawer impor \n",
    "md = MapDrawer.MapDrawer(cor, dis)\n",
    "md.draw()"
   ]
  },
  {
   "cell_type": "code",
   "execution_count": null,
   "metadata": {},
   "outputs": [],
   "source": []
  }
 ],
 "metadata": {
  "kernelspec": {
   "display_name": "Python 3",
   "language": "python",
   "name": "python3"
  },
  "language_info": {
   "codemirror_mode": {
    "name": "ipython",
    "version": 3
   },
   "file_extension": ".py",
   "mimetype": "text/x-python",
   "name": "python",
   "nbconvert_exporter": "python",
   "pygments_lexer": "ipython3",
   "version": "3.6.5"
  }
 },
 "nbformat": 4,
 "nbformat_minor": 2
}
