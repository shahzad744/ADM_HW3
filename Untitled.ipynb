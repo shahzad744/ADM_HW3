{
 "cells": [
  {
   "cell_type": "markdown",
   "metadata": {},
   "source": [
    "# Step 2: Create documents\n",
    "In order to create documents in tab separated values format and load them in memory, we built a class named 'DataLoading' containing two methods:\n",
    "-LoadCSVandCreateTSVFiles transform a single csv file in multiple tsv files. Each of these tsv files corresponds to a single row in the csv file.\n",
    "-LoadTSVFilesDataIntoString load the entire corpus in a list. Each item of this list is a string corresponding to a tsv file"
   ]
  },
  {
   "cell_type": "code",
   "execution_count": 21,
   "metadata": {},
   "outputs": [],
   "source": [
    "import DataLoading\n",
    "import Preprocessing\n",
    "import TextManagement\n",
    "import TextMining\n",
    "import DisplayResults"
   ]
  },
  {
   "cell_type": "code",
   "execution_count": 5,
   "metadata": {},
   "outputs": [],
   "source": [
    "dl = DataLoading.DataLoading()"
   ]
  },
  {
   "cell_type": "code",
   "execution_count": 6,
   "metadata": {},
   "outputs": [],
   "source": [
    "dl.LoadCSVandCreateTSVFiles()"
   ]
  },
  {
   "cell_type": "markdown",
   "metadata": {},
   "source": [
    "It assumes the csv file is stored in ./Resources/Airbnb_Texas_Rentals.csv and stores the tsv files in the folder ./Resources/tsvFiles"
   ]
  },
  {
   "cell_type": "code",
   "execution_count": 7,
   "metadata": {},
   "outputs": [],
   "source": [
    "raw_data = dl.LoadTSVFilesDataIntoString()"
   ]
  },
  {
   "cell_type": "markdown",
   "metadata": {},
   "source": [
    "Loads the data in memory"
   ]
  },
  {
   "cell_type": "markdown",
   "metadata": {},
   "source": [
    "# Step 3: Search Engine\n",
    "For the preprocessing task we built a class named 'Preprocessing'. Its responsibility is to preprocess the documents removing stopwords and punctuation and applying stemming."
   ]
  },
  {
   "cell_type": "code",
   "execution_count": 8,
   "metadata": {},
   "outputs": [],
   "source": [
    "preprocessing = Preprocessing.Preprocessing()\n",
    "data = preprocessing.PreprocessDataForTextManagement(raw_data)"
   ]
  },
  {
   "cell_type": "markdown",
   "metadata": {},
   "source": [
    "For a given list of strings, each containing the content of a tvs file, returns a list of objects representing the preprocessed tvs files. These objects are dictionaries where the keys are the names of the fields."
   ]
  },
  {
   "cell_type": "markdown",
   "metadata": {},
   "source": [
    "## 3.1.1) Create your index!\n",
    "The class 'TextManagement' is responsible to create, save and load the inverted index."
   ]
  },
  {
   "cell_type": "code",
   "execution_count": 9,
   "metadata": {},
   "outputs": [],
   "source": [
    "textManagement = TextManagement.TextManagement()\n",
    "invertedIndex = textManagement.CreateInvertedIndex(data)"
   ]
  },
  {
   "cell_type": "code",
   "execution_count": 10,
   "metadata": {},
   "outputs": [],
   "source": [
    "textManagement.SaveInvertedIndexJson(invertedIndex, \"inverted_index.json\")"
   ]
  },
  {
   "cell_type": "code",
   "execution_count": 11,
   "metadata": {},
   "outputs": [],
   "source": [
    "invertedIndex = textManagement.LoadInvertedIndexJson(\"inverted_index.json\")"
   ]
  },
  {
   "cell_type": "markdown",
   "metadata": {},
   "source": [
    "## 3.1.2) Execute the query"
   ]
  },
  {
   "cell_type": "code",
   "execution_count": 16,
   "metadata": {},
   "outputs": [
    {
     "name": "stdout",
     "output_type": "stream",
     "text": [
      "Please Enter Search Query: \n",
      "big garden\n"
     ]
    }
   ],
   "source": [
    "print(\"Please Enter Search Query: \")\n",
    "searchQuery = input()"
   ]
  },
  {
   "cell_type": "code",
   "execution_count": 17,
   "metadata": {},
   "outputs": [],
   "source": [
    "searchQueryProcessed = preprocessing.PreprocessDataForTextMining(searchQuery)"
   ]
  },
  {
   "cell_type": "markdown",
   "metadata": {},
   "source": [
    "Before the actual execution of the query, we preprocess it just like we did for the documents. This is necessary, in fact there wouldn't be any match (query-term, inverted-index-row) otherwise."
   ]
  },
  {
   "cell_type": "code",
   "execution_count": 18,
   "metadata": {},
   "outputs": [],
   "source": [
    "textMining = TextMining.TextMining()\n",
    "documentIndexes = textMining.SearchTextFromInvertedIndexAndReturnResults(invertedIndex, searchQueryProcessed)"
   ]
  },
  {
   "cell_type": "markdown",
   "metadata": {},
   "source": [
    "The query is executed as follow:\n",
    "for each word in the query:\n",
    "    retrieve the corresponding term id\n",
    "    retrieve all the documents containing the term id\n",
    "The result is the intersection of the documents retrieved at each step."
   ]
  },
  {
   "cell_type": "code",
   "execution_count": 29,
   "metadata": {},
   "outputs": [
    {
     "data": {
      "text/html": [
       "<div>\n",
       "<style scoped>\n",
       "    .dataframe tbody tr th:only-of-type {\n",
       "        vertical-align: middle;\n",
       "    }\n",
       "\n",
       "    .dataframe tbody tr th {\n",
       "        vertical-align: top;\n",
       "    }\n",
       "\n",
       "    .dataframe thead th {\n",
       "        text-align: right;\n",
       "    }\n",
       "</style>\n",
       "<table border=\"1\" class=\"dataframe\">\n",
       "  <thead>\n",
       "    <tr style=\"text-align: right;\">\n",
       "      <th></th>\n",
       "      <th>Title</th>\n",
       "      <th>Description</th>\n",
       "      <th>City</th>\n",
       "      <th>Url</th>\n",
       "    </tr>\n",
       "  </thead>\n",
       "  <tbody>\n",
       "    <tr>\n",
       "      <th>0</th>\n",
       "      <td>The Aggie Garden Cottage</td>\n",
       "      <td>My home is less than a mile to Texas A&amp;amp;M U...</td>\n",
       "      <td>College Station</td>\n",
       "      <td>https://www.airbnb.com/rooms/13318421?location...</td>\n",
       "    </tr>\n",
       "    <tr>\n",
       "      <th>1</th>\n",
       "      <td>New! A little bit country close to town/The Ga...</td>\n",
       "      <td>My place is close to family-friendly activitie...</td>\n",
       "      <td>Kyle</td>\n",
       "      <td>https://www.airbnb.com/rooms/17270667?location...</td>\n",
       "    </tr>\n",
       "    <tr>\n",
       "      <th>2</th>\n",
       "      <td>Cozy cottage in middle of town.</td>\n",
       "      <td>Quaint cottage surrounded by trees. House has ...</td>\n",
       "      <td>Beaumont</td>\n",
       "      <td>https://www.airbnb.com/rooms/18131905?location...</td>\n",
       "    </tr>\n",
       "    <tr>\n",
       "      <th>3</th>\n",
       "      <td>Welcome home!</td>\n",
       "      <td>My place is close to Walking distance/across t...</td>\n",
       "      <td>Roanoke</td>\n",
       "      <td>https://www.airbnb.com/rooms/15603065?location...</td>\n",
       "    </tr>\n",
       "    <tr>\n",
       "      <th>4</th>\n",
       "      <td>COTTAGE GARDEN: Heights 2-bath, 2 bedroom, 2-s...</td>\n",
       "      <td>COTTAGE GARDENS: \\nPrivate Rear Cottage ~ open...</td>\n",
       "      <td>Houston</td>\n",
       "      <td>https://www.airbnb.com/rooms/14184646?location...</td>\n",
       "    </tr>\n",
       "  </tbody>\n",
       "</table>\n",
       "</div>"
      ],
      "text/plain": [
       "                                               Title  \\\n",
       "0                           The Aggie Garden Cottage   \n",
       "1  New! A little bit country close to town/The Ga...   \n",
       "2                    Cozy cottage in middle of town.   \n",
       "3                                      Welcome home!   \n",
       "4  COTTAGE GARDEN: Heights 2-bath, 2 bedroom, 2-s...   \n",
       "\n",
       "                                         Description             City  \\\n",
       "0  My home is less than a mile to Texas A&amp;M U...  College Station   \n",
       "1  My place is close to family-friendly activitie...             Kyle   \n",
       "2  Quaint cottage surrounded by trees. House has ...         Beaumont   \n",
       "3  My place is close to Walking distance/across t...          Roanoke   \n",
       "4  COTTAGE GARDENS: \\nPrivate Rear Cottage ~ open...          Houston   \n",
       "\n",
       "                                                 Url  \n",
       "0  https://www.airbnb.com/rooms/13318421?location...  \n",
       "1  https://www.airbnb.com/rooms/17270667?location...  \n",
       "2  https://www.airbnb.com/rooms/18131905?location...  \n",
       "3  https://www.airbnb.com/rooms/15603065?location...  \n",
       "4  https://www.airbnb.com/rooms/14184646?location...  "
      ]
     },
     "metadata": {},
     "output_type": "display_data"
    }
   ],
   "source": [
    "from IPython.display import display\n",
    "\n",
    "displayresults = DisplayResults.DisplayResults()\n",
    "res = displayresults.PrintSimpleResults(documentIndexes)\n",
    "display(res.head())"
   ]
  },
  {
   "cell_type": "markdown",
   "metadata": {},
   "source": [
    "## 3.2) Conjunctive query & Ranking score"
   ]
  },
  {
   "cell_type": "markdown",
   "metadata": {},
   "source": [
    "### 3.2.1) Inverted index\n"
   ]
  },
  {
   "cell_type": "code",
   "execution_count": 28,
   "metadata": {},
   "outputs": [],
   "source": [
    "invertedIndex = textManagement.CreateScoredInvertedIndex(data)\n",
    "textManagement.SaveInvertedIndexJson(invertedIndex, \"tfidf_inverted_index.json\")\n",
    "invertedIndex = textManagement.LoadInvertedIndexJson(\"tfidf_inverted_index.json\")"
   ]
  },
  {
   "cell_type": "markdown",
   "metadata": {},
   "source": [
    "Now the inverted index is built using the tf-idf scheme."
   ]
  },
  {
   "cell_type": "markdown",
   "metadata": {},
   "source": [
    "### 3.2.2) Execute the query\n"
   ]
  },
  {
   "cell_type": "code",
   "execution_count": 31,
   "metadata": {},
   "outputs": [
    {
     "name": "stdout",
     "output_type": "stream",
     "text": [
      "Please Enter Search Query: \n",
      "big garden\n"
     ]
    }
   ],
   "source": [
    "print(\"Please Enter Search Query: \")\n",
    "searchQuery = input()\n",
    "searchQueryProcessed = preprocessing.PreprocessDataForTextMining(searchQuery)\n",
    "documentIndexes = textMining.SearchTextFromInvertedScoredIndexAndReturnResults(invertedIndex,searchQueryProcessed)"
   ]
  },
  {
   "cell_type": "markdown",
   "metadata": {},
   "source": [
    "# For Shahzad ... We use the tf*idf scheme for the query too, because in order to calculate the similarity ..."
   ]
  },
  {
   "cell_type": "code",
   "execution_count": 1,
   "metadata": {},
   "outputs": [
    {
     "ename": "NameError",
     "evalue": "name 'displayresults' is not defined",
     "output_type": "error",
     "traceback": [
      "\u001b[0;31m---------------------------------------------------------------------------\u001b[0m",
      "\u001b[0;31mNameError\u001b[0m                                 Traceback (most recent call last)",
      "\u001b[0;32m<ipython-input-1-6ea48f81e1bb>\u001b[0m in \u001b[0;36m<module>\u001b[0;34m()\u001b[0m\n\u001b[0;32m----> 1\u001b[0;31m \u001b[0mres\u001b[0m \u001b[0;34m=\u001b[0m \u001b[0mdisplayresults\u001b[0m\u001b[0;34m.\u001b[0m\u001b[0mPrintScoredResults\u001b[0m\u001b[0;34m(\u001b[0m\u001b[0mdocumentIndexes\u001b[0m\u001b[0;34m)\u001b[0m\u001b[0;34m\u001b[0m\u001b[0m\n\u001b[0m\u001b[1;32m      2\u001b[0m \u001b[0mprint\u001b[0m\u001b[0;34m(\u001b[0m\u001b[0mres\u001b[0m\u001b[0;34m.\u001b[0m\u001b[0mhead\u001b[0m\u001b[0;34m(\u001b[0m\u001b[0;34m)\u001b[0m\u001b[0;34m)\u001b[0m\u001b[0;34m\u001b[0m\u001b[0m\n",
      "\u001b[0;31mNameError\u001b[0m: name 'displayresults' is not defined"
     ]
    }
   ],
   "source": [
    "res = displayresults.PrintScoredResults(documentIndexes)\n",
    "display(res.head())"
   ]
  },
  {
   "cell_type": "code",
   "execution_count": null,
   "metadata": {},
   "outputs": [],
   "source": []
  }
 ],
 "metadata": {
  "kernelspec": {
   "display_name": "Python 3",
   "language": "python",
   "name": "python3"
  },
  "language_info": {
   "codemirror_mode": {
    "name": "ipython",
    "version": 3
   },
   "file_extension": ".py",
   "mimetype": "text/x-python",
   "name": "python",
   "nbconvert_exporter": "python",
   "pygments_lexer": "ipython3",
   "version": "3.6.5"
  }
 },
 "nbformat": 4,
 "nbformat_minor": 2
}
